{
 "cells": [
  {
   "cell_type": "code",
   "execution_count": null,
   "id": "ad3ea60d-17fc-437c-8764-3bac39d1bf48",
   "metadata": {},
   "outputs": [],
   "source": []
  }
 ],
 "metadata": {
  "kernelspec": {
   "display_name": "",
   "name": ""
  },
  "language_info": {
   "name": ""
  }
 },
 "nbformat": 4,
 "nbformat_minor": 5
}
